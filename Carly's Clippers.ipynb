{
 "cells": [
  {
   "cell_type": "markdown",
   "id": "c15e6d92",
   "metadata": {},
   "source": [
    "# Carly's Clippers Data Analysis"
   ]
  },
  {
   "cell_type": "markdown",
   "id": "239dfab8",
   "metadata": {},
   "source": [
    "You have been provided with three lists:\n",
    "<br> <br>\n",
    "hairstyles: the names of the cuts offered at Carly’s Clippers. <br>\n",
    "prices: the price of each hairstyle in the hairstyles list. <br>\n",
    "last_week: the number of purchases for each hairstyle type in the last week. <br> <br>\n",
    "Each index in hairstyles corresponds to an associated index in prices and last_week."
   ]
  },
  {
   "cell_type": "code",
   "execution_count": 4,
   "id": "6e3d547f",
   "metadata": {},
   "outputs": [],
   "source": [
    "hairstyles = [\"bouffant\", \"pixie\", \"dreadlocks\", \"crew\", \"bowl\", \"bob\", \"mohawk\", \"flattop\"]\n",
    "\n",
    "prices = [30, 25, 40, 20, 20, 35, 50, 35]\n",
    "\n",
    "last_week = [2, 3, 5, 8, 4, 4, 6, 2]"
   ]
  },
  {
   "cell_type": "markdown",
   "id": "8a1b9dbb",
   "metadata": {},
   "source": [
    "Carly wants to be able to market her low prices. We want to find out what the average price of a cut is. <br>\n",
    "First, let’s sum up all the prices of haircuts. Create a variable total_price, and set it to 0."
   ]
  },
  {
   "cell_type": "code",
   "execution_count": 5,
   "id": "e5777c9e",
   "metadata": {},
   "outputs": [],
   "source": [
    "total_price = 0"
   ]
  },
  {
   "cell_type": "markdown",
   "id": "53034250",
   "metadata": {},
   "source": [
    "Loop through the prices list and add each price to the variable total_price."
   ]
  },
  {
   "cell_type": "code",
   "execution_count": 6,
   "id": "8dfe1bc9",
   "metadata": {},
   "outputs": [],
   "source": [
    "for price in prices:\n",
    "  total_price += price"
   ]
  },
  {
   "cell_type": "markdown",
   "id": "56155194",
   "metadata": {},
   "source": [
    "After your loop, create a variable called average_price that is the total_price divided by the number of prices. <br>\n",
    "You can get the number of prices by using the len() function.\n",
    "<br> <br>\n",
    "Print the value of average_price."
   ]
  },
  {
   "cell_type": "code",
   "execution_count": 7,
   "id": "7ef34912",
   "metadata": {},
   "outputs": [
    {
     "name": "stdout",
     "output_type": "stream",
     "text": [
      "Average Haircut Price: $31.875\n"
     ]
    }
   ],
   "source": [
    "average_price = total_price / len(prices)\n",
    "print('Average Haircut Price: $' + str(average_price))"
   ]
  },
  {
   "cell_type": "markdown",
   "id": "ce04c847",
   "metadata": {},
   "source": [
    "That average price is more expensive than Carly thought it would be! She wants to cut all prices by 5 dollars. <br>\n",
    "Use a list comprehension to make a list called new_prices, which has each element in prices minus 5. \n",
    "<br> <br>\n",
    "Print new_prices."
   ]
  },
  {
   "cell_type": "code",
   "execution_count": 9,
   "id": "a51e45f2",
   "metadata": {},
   "outputs": [
    {
     "name": "stdout",
     "output_type": "stream",
     "text": [
      "[25, 20, 35, 15, 15, 30, 45, 30]\n"
     ]
    }
   ],
   "source": [
    "new_prices = [\n",
    "  # expression\n",
    "  price - 5\n",
    "  # for loop statement\n",
    "  for price in prices]\n",
    "print(new_prices)"
   ]
  },
  {
   "cell_type": "markdown",
   "id": "1bf103e1",
   "metadata": {},
   "source": [
    "Carly really wants to make sure that Carly’s Clippers is a profitable endeavor. She first wants to know how much revenue was brought in last week. <br>\n",
    "Create a variable called total_revenue and set it to 0."
   ]
  },
  {
   "cell_type": "code",
   "execution_count": 10,
   "id": "0c3d86c7",
   "metadata": {},
   "outputs": [],
   "source": [
    "total_revenue = 0"
   ]
  },
  {
   "cell_type": "markdown",
   "id": "e7e3d4a3",
   "metadata": {},
   "source": [
    "Use a for loop to create a variable i that goes from 0 to len(hairstyles). \n",
    "<br> <br>\n",
    "Hint: You can use range() to do this!\n",
    "<br> <br>\n",
    "Add the product of prices[i] (the price of the haircut at position i) and last_week[i] (the number of people who got the haircut at position i) to total_revenue at each step.\n",
    "<br> <br>\n",
    "After your loop, print the value of total_revenue."
   ]
  },
  {
   "cell_type": "code",
   "execution_count": 11,
   "id": "fe14d96d",
   "metadata": {},
   "outputs": [
    {
     "name": "stdout",
     "output_type": "stream",
     "text": [
      "Total Revenue $1085\n"
     ]
    }
   ],
   "source": [
    "for i in range(len(hairstyles)):\n",
    "  total_revenue += prices[i] * last_week[i]\n",
    "print('Total Revenue ${0}'.format(total_revenue))"
   ]
  },
  {
   "cell_type": "markdown",
   "id": "53e1acf6",
   "metadata": {},
   "source": [
    "Find the average daily revenue by dividing total_revenue by 7. Call this number average_daily_revenue and print it out."
   ]
  },
  {
   "cell_type": "code",
   "execution_count": 12,
   "id": "afa96f5c",
   "metadata": {},
   "outputs": [
    {
     "name": "stdout",
     "output_type": "stream",
     "text": [
      "Average Daily Revenue: $155.0\n"
     ]
    }
   ],
   "source": [
    "average_daily_revenue = total_revenue/7\n",
    "print('Average Daily Revenue: ${0}'.format(average_daily_revenue))"
   ]
  },
  {
   "cell_type": "markdown",
   "id": "d9026694",
   "metadata": {},
   "source": [
    "Carly thinks she can bring in more customers by advertising all of the haircuts she has that are under 30 dollars.\n",
    "<br> <br>\n",
    "Use a list comprehension to create a list called cuts_under_30 that has the entry hairstyles[i] for each i for which new_prices[i] is less than 30.\n",
    "<br> <br>\n",
    "You can use range() in your list comprehension to make i go from 0 to len(new_prices) - 1.\n",
    "<br> <br>\n",
    "Print cuts_under_30."
   ]
  },
  {
   "cell_type": "code",
   "execution_count": 15,
   "id": "68759473",
   "metadata": {},
   "outputs": [
    {
     "name": "stdout",
     "output_type": "stream",
     "text": [
      "['bouffant', 'pixie', 'crew', 'bowl']\n"
     ]
    }
   ],
   "source": [
    "cuts_under_30 = [\n",
    "  # expression\n",
    "  hairstyles[i]\n",
    "  # for loop statement\n",
    "  for i in range(len(hairstyles))\n",
    "  # conditional\n",
    "  if new_prices[i] < 30\n",
    "]\n",
    "\n",
    "print(cuts_under_30)"
   ]
  }
 ],
 "metadata": {
  "kernelspec": {
   "display_name": "Python 3 (ipykernel)",
   "language": "python",
   "name": "python3"
  },
  "language_info": {
   "codemirror_mode": {
    "name": "ipython",
    "version": 3
   },
   "file_extension": ".py",
   "mimetype": "text/x-python",
   "name": "python",
   "nbconvert_exporter": "python",
   "pygments_lexer": "ipython3",
   "version": "3.9.12"
  }
 },
 "nbformat": 4,
 "nbformat_minor": 5
}
