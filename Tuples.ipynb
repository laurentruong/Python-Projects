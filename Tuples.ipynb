{
 "cells": [
  {
   "cell_type": "markdown",
   "id": "632ac9a2",
   "metadata": {},
   "source": [
    "### Introduction to Tuples"
   ]
  },
  {
   "cell_type": "markdown",
   "id": "d6c1452e",
   "metadata": {},
   "source": [
    "Tuples are:\n",
    "1. Immutable, meaning that once a tuple is created, it cannot be modified. A list can be modified.\n",
    "2. Use parenthesis instead of square brackets. A list uses square brackets.\n",
    "3. The order of the data matters.\n",
    "\n",
    "Important:\n",
    "- You use tuples when data is not similar and needs to be grouped together. \n",
    "- The order of the data matters since once the tuple is created, you cannot insert or remove(pop) elements.\n",
    "- You use lists when data is similar and needs to be grouped together. Since the information is dynamic, you are able to insert and remove elements."
   ]
  },
  {
   "cell_type": "code",
   "execution_count": 36,
   "id": "eba548a3",
   "metadata": {},
   "outputs": [],
   "source": [
    "my_info = ('Ren', 23, 'Data Architect')"
   ]
  },
  {
   "cell_type": "code",
   "execution_count": 37,
   "id": "020c6538",
   "metadata": {},
   "outputs": [
    {
     "name": "stdout",
     "output_type": "stream",
     "text": [
      "Ren\n",
      "23\n",
      "Data Architect\n"
     ]
    }
   ],
   "source": [
    "print(my_info[0])\n",
    "print(my_info[1])\n",
    "print(my_info[-1])"
   ]
  },
  {
   "cell_type": "markdown",
   "id": "ee06bb87",
   "metadata": {},
   "source": [
    "When running the code below, there is a TypeError because you cannot assign a new item to the existing item."
   ]
  },
  {
   "cell_type": "code",
   "execution_count": 38,
   "id": "d1dbcdae",
   "metadata": {},
   "outputs": [
    {
     "ename": "TypeError",
     "evalue": "'tuple' object does not support item assignment",
     "output_type": "error",
     "traceback": [
      "\u001b[1;31m---------------------------------------------------------------------------\u001b[0m",
      "\u001b[1;31mTypeError\u001b[0m                                 Traceback (most recent call last)",
      "Input \u001b[1;32mIn [38]\u001b[0m, in \u001b[0;36m<cell line: 1>\u001b[1;34m()\u001b[0m\n\u001b[1;32m----> 1\u001b[0m my_info[\u001b[38;5;241m1\u001b[39m] \u001b[38;5;241m=\u001b[39m \u001b[38;5;241m12\u001b[39m\n",
      "\u001b[1;31mTypeError\u001b[0m: 'tuple' object does not support item assignment"
     ]
    }
   ],
   "source": [
    "my_info[1] = 12"
   ]
  },
  {
   "cell_type": "markdown",
   "id": "297d2294",
   "metadata": {},
   "source": [
    "### Unpacking a Tuple\n",
    "\n",
    "How to unpack a tuple."
   ]
  },
  {
   "cell_type": "code",
   "execution_count": 39,
   "id": "e239ef35",
   "metadata": {},
   "outputs": [],
   "source": [
    "name, age, occupation = my_info"
   ]
  },
  {
   "cell_type": "markdown",
   "id": "38df6d8b",
   "metadata": {},
   "source": [
    "If a number of variables on the left are assigned to an equal number of variables on the right (inside of the tuple), you can unpack a tuple."
   ]
  },
  {
   "cell_type": "code",
   "execution_count": 40,
   "id": "b54f9923",
   "metadata": {},
   "outputs": [
    {
     "name": "stdout",
     "output_type": "stream",
     "text": [
      "Ren\n",
      "23\n",
      "Data Architect\n"
     ]
    }
   ],
   "source": [
    "print(name)\n",
    "print(age)\n",
    "print(occupation)"
   ]
  },
  {
   "cell_type": "markdown",
   "id": "21975ccc",
   "metadata": {},
   "source": [
    "How to create a one element tuple."
   ]
  },
  {
   "cell_type": "code",
   "execution_count": 41,
   "id": "aef048a6",
   "metadata": {},
   "outputs": [
    {
     "name": "stdout",
     "output_type": "stream",
     "text": [
      "(4,)\n"
     ]
    }
   ],
   "source": [
    "one_element_tuple = (4,)\n",
    "print(one_element_tuple)"
   ]
  },
  {
   "cell_type": "markdown",
   "id": "218147ae",
   "metadata": {},
   "source": [
    "How not to create a one element tuple.\n",
    "<br>\n",
    "<br>\n",
    "Note: You cannot have only parenthesis because you can surround expressions in them (think of PEMDAS). A trailing comma (as shown above) is needed to create a one element tuple."
   ]
  },
  {
   "cell_type": "code",
   "execution_count": 42,
   "id": "a2514264",
   "metadata": {},
   "outputs": [
    {
     "name": "stdout",
     "output_type": "stream",
     "text": [
      "4\n"
     ]
    }
   ],
   "source": [
    "not_one_element_tuple = (4)\n",
    "print(not_one_element_tuple)"
   ]
  }
 ],
 "metadata": {
  "kernelspec": {
   "display_name": "Python 3 (ipykernel)",
   "language": "python",
   "name": "python3"
  },
  "language_info": {
   "codemirror_mode": {
    "name": "ipython",
    "version": 3
   },
   "file_extension": ".py",
   "mimetype": "text/x-python",
   "name": "python",
   "nbconvert_exporter": "python",
   "pygments_lexer": "ipython3",
   "version": "3.9.12"
  }
 },
 "nbformat": 4,
 "nbformat_minor": 5
}
