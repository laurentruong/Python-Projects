{
 "cells": [
  {
   "cell_type": "markdown",
   "id": "d983ed98",
   "metadata": {},
   "source": [
    "# Len's Slice"
   ]
  },
  {
   "cell_type": "markdown",
   "id": "218ed5e4",
   "metadata": {},
   "source": [
    "Create a list called \"toppings\"."
   ]
  },
  {
   "cell_type": "code",
   "execution_count": 25,
   "id": "d628b40c",
   "metadata": {},
   "outputs": [],
   "source": [
    "toppings = ['pepperoni', 'pineapple', 'cheese', 'sausage', 'olives', 'anchovies', 'mushrooms']"
   ]
  },
  {
   "cell_type": "markdown",
   "id": "862d258e",
   "metadata": {},
   "source": [
    "Create a list called \"prices\" to keep track of how much each kind of pizza slice costs."
   ]
  },
  {
   "cell_type": "code",
   "execution_count": 26,
   "id": "e7657153",
   "metadata": {},
   "outputs": [],
   "source": [
    "prices = [2, 6, 1, 3, 2, 7, 2]"
   ]
  },
  {
   "cell_type": "markdown",
   "id": "49adf7a1",
   "metadata": {},
   "source": [
    "Count the number of occurrences of 2 in the prices list, and store the result in a variable called \"num_two_dollar_slices\"."
   ]
  },
  {
   "cell_type": "code",
   "execution_count": 27,
   "id": "b992de5b",
   "metadata": {},
   "outputs": [
    {
     "name": "stdout",
     "output_type": "stream",
     "text": [
      "3\n"
     ]
    }
   ],
   "source": [
    "num_two_dollar_slices = prices.count(2)\n",
    "\n",
    "print(num_two_dollar_slices)"
   ]
  },
  {
   "cell_type": "markdown",
   "id": "3926f4cf",
   "metadata": {},
   "source": [
    "Find the length of the toppings list and store it in a variable called \"num_pizzas\"."
   ]
  },
  {
   "cell_type": "code",
   "execution_count": 28,
   "id": "549ad5d7",
   "metadata": {},
   "outputs": [],
   "source": [
    "num_pizzas = len(toppings)"
   ]
  },
  {
   "cell_type": "markdown",
   "id": "870eef26",
   "metadata": {},
   "source": [
    "Print the string \"We sell [num_pizzas] different kinds of pizza!\", where [num_pizzas] represents the value of our variable num_pizzas."
   ]
  },
  {
   "cell_type": "code",
   "execution_count": 29,
   "id": "1106a726",
   "metadata": {},
   "outputs": [
    {
     "name": "stdout",
     "output_type": "stream",
     "text": [
      "We sell 7 different kinds of pizza!\n"
     ]
    }
   ],
   "source": [
    "print('We sell ' + str(num_pizzas) + ' different kinds of pizza!')"
   ]
  },
  {
   "cell_type": "markdown",
   "id": "5cfac88f",
   "metadata": {},
   "source": [
    "Use the existing data about the pizza toppings and prices to create a new two-dimensional list called \"pizza_and_prices\". <br>\n",
    "Each sublist in pizza_and_prices should have one pizza topping and an associated price."
   ]
  },
  {
   "cell_type": "code",
   "execution_count": 30,
   "id": "6dcee35b",
   "metadata": {},
   "outputs": [
    {
     "name": "stdout",
     "output_type": "stream",
     "text": [
      "[[2, 'pepperoni'], [6, 'pineapple'], [1, 'cheese'], [3, 'sausage'], [2, 'olives'], [7, 'anchovies'], [2, 'mushrooms']]\n"
     ]
    }
   ],
   "source": [
    "pizza_and_prices = [\n",
    "  [2, 'pepperoni'],\n",
    "  [6, 'pineapple'],\n",
    "  [1, 'cheese'],\n",
    "  [3, 'sausage'],\n",
    "  [2, 'olives'],\n",
    "  [7, 'anchovies'],\n",
    "  [2, 'mushrooms']\n",
    "]\n",
    "\n",
    "print(pizza_and_prices)"
   ]
  },
  {
   "cell_type": "markdown",
   "id": "70d5ecaf",
   "metadata": {},
   "source": [
    "Sort pizza_and_prices so that the pizzas are in the order of decreasing price, then increasing price (ascending)."
   ]
  },
  {
   "cell_type": "code",
   "execution_count": 31,
   "id": "a99e9255",
   "metadata": {},
   "outputs": [
    {
     "name": "stdout",
     "output_type": "stream",
     "text": [
      "[[7, 'anchovies'], [6, 'pineapple'], [3, 'sausage'], [2, 'pepperoni'], [2, 'olives'], [2, 'mushrooms'], [1, 'cheese']]\n",
      "[[1, 'cheese'], [2, 'mushrooms'], [2, 'olives'], [2, 'pepperoni'], [3, 'sausage'], [6, 'pineapple'], [7, 'anchovies']]\n"
     ]
    }
   ],
   "source": [
    "pizza_and_prices.sort(reverse=True)\n",
    "print(pizza_and_prices)\n",
    "\n",
    "pizza_and_prices.sort()\n",
    "print(pizza_and_prices)"
   ]
  },
  {
   "cell_type": "markdown",
   "id": "e978267a",
   "metadata": {},
   "source": [
    "Store the first element of pizza_and_prices in a variable called \"cheapest_pizza\". <br>\n",
    "Get the last item of the pizza_and_prices list and store it in a variable called \"priciest_pizza\"."
   ]
  },
  {
   "cell_type": "code",
   "execution_count": 32,
   "id": "d9f26fbf",
   "metadata": {},
   "outputs": [
    {
     "name": "stdout",
     "output_type": "stream",
     "text": [
      "[1, 'cheese']\n",
      "[7, 'anchovies']\n"
     ]
    }
   ],
   "source": [
    "cheapest_pizza = pizza_and_prices[0]\n",
    "print(cheapest_pizza)\n",
    "\n",
    "priciest_pizza = pizza_and_prices[-1]\n",
    "print(priciest_pizza)"
   ]
  },
  {
   "cell_type": "markdown",
   "id": "a220626f",
   "metadata": {},
   "source": [
    "Remove anchovies from our pizza_and_prices list."
   ]
  },
  {
   "cell_type": "code",
   "execution_count": 33,
   "id": "1db54ab7",
   "metadata": {},
   "outputs": [
    {
     "name": "stdout",
     "output_type": "stream",
     "text": [
      "[[1, 'cheese'], [2, 'mushrooms'], [2, 'olives'], [2, 'pepperoni'], [3, 'sausage'], [6, 'pineapple']]\n"
     ]
    }
   ],
   "source": [
    "pizza_and_prices.pop()\n",
    "print(pizza_and_prices)"
   ]
  },
  {
   "cell_type": "markdown",
   "id": "abe1c5cc",
   "metadata": {},
   "source": [
    "Since there is no longer an anchovies pizza, you want to add a new topping called \"peppers\" to keep your customers excited about new toppings. <br>\n",
    "Add the new peppers pizza topping to our list pizza_and_prices."
   ]
  },
  {
   "cell_type": "code",
   "execution_count": 34,
   "id": "394a245c",
   "metadata": {},
   "outputs": [
    {
     "name": "stdout",
     "output_type": "stream",
     "text": [
      "[[1, 'cheese'], [2, 'mushrooms'], [2, 'olives'], [2, 'pepperoni'], [2.5, 'peppers'], [3, 'sausage'], [6, 'pineapple']]\n"
     ]
    }
   ],
   "source": [
    "pizza_and_prices.insert(4, [2.5, 'peppers'])\n",
    "print(pizza_and_prices)"
   ]
  },
  {
   "cell_type": "markdown",
   "id": "abc7cb37",
   "metadata": {},
   "source": [
    "Slice the pizza_and_prices list and store the 3 lowest cost pizzas in a list called \"three_cheapest\"."
   ]
  },
  {
   "cell_type": "code",
   "execution_count": 35,
   "id": "31db6c7d",
   "metadata": {},
   "outputs": [
    {
     "name": "stdout",
     "output_type": "stream",
     "text": [
      "[[1, 'cheese'], [2, 'mushrooms'], [2, 'olives']]\n"
     ]
    }
   ],
   "source": [
    "three_cheapest = pizza_and_prices[:3]\n",
    "print(three_cheapest)"
   ]
  }
 ],
 "metadata": {
  "kernelspec": {
   "display_name": "Python 3 (ipykernel)",
   "language": "python",
   "name": "python3"
  },
  "language_info": {
   "codemirror_mode": {
    "name": "ipython",
    "version": 3
   },
   "file_extension": ".py",
   "mimetype": "text/x-python",
   "name": "python",
   "nbconvert_exporter": "python",
   "pygments_lexer": "ipython3",
   "version": "3.9.12"
  }
 },
 "nbformat": 4,
 "nbformat_minor": 5
}
