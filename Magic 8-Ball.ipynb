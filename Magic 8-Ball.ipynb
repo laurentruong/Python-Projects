{
 "cells": [
  {
   "cell_type": "markdown",
   "id": "07e33481",
   "metadata": {},
   "source": [
    "Import required packages."
   ]
  },
  {
   "cell_type": "code",
   "execution_count": 45,
   "id": "203e0332",
   "metadata": {},
   "outputs": [],
   "source": [
    "import random"
   ]
  },
  {
   "cell_type": "markdown",
   "id": "73f231cd",
   "metadata": {},
   "source": [
    "Declare assigned variables."
   ]
  },
  {
   "cell_type": "code",
   "execution_count": 61,
   "id": "4bed29b2",
   "metadata": {},
   "outputs": [],
   "source": [
    "name = 'Ren'\n",
    "question = 'Will I get accepted into Georgetown University?'\n",
    "answer = '' # Where we will store the answer of the Magic 8-Ball.\n",
    "random_number = random.randint(1, 9) # Generates random number between 1 and 9."
   ]
  },
  {
   "cell_type": "code",
   "execution_count": 62,
   "id": "57710f49",
   "metadata": {
    "scrolled": false
   },
   "outputs": [
    {
     "name": "stdout",
     "output_type": "stream",
     "text": [
      "7\n"
     ]
    }
   ],
   "source": [
    "print(random_number) # Check to see if variable random_number is working."
   ]
  },
  {
   "cell_type": "markdown",
   "id": "6ab52e53",
   "metadata": {},
   "source": [
    "Write if, elif, and else statements to create the Magic 8-Ball."
   ]
  },
  {
   "cell_type": "code",
   "execution_count": 63,
   "id": "d7e09a8d",
   "metadata": {},
   "outputs": [],
   "source": [
    "if random_number == 1:\n",
    "  answer = \"Yes - definitely.\"\n",
    "elif random_number == 2:\n",
    "  answer = \"It is decidedly so.\"\n",
    "elif random_number == 3:\n",
    "  answer = \"Without a doubt.\"\n",
    "elif random_number == 4:\n",
    "  answer = \"Reply hazy, try again.\"\n",
    "elif random_number == 5:\n",
    "  answer = \"Ask again later.\"\n",
    "elif random_number == 6:\n",
    "  answer = \"Better not tell you now.\"\n",
    "elif random_number == 7:\n",
    "  answer = \"My sources say no.\"\n",
    "elif random_number == 8:\n",
    "  answer = \"Outlook not so good.\"\n",
    "elif random_number == 9:\n",
    "  answer = \"Very doubtful.\"\n",
    "else:\n",
    "  answer = \"Error.\""
   ]
  },
  {
   "cell_type": "markdown",
   "id": "40b14a98",
   "metadata": {},
   "source": [
    "Write and print question for the user to see."
   ]
  },
  {
   "cell_type": "code",
   "execution_count": 64,
   "id": "44a2734c",
   "metadata": {},
   "outputs": [
    {
     "name": "stdout",
     "output_type": "stream",
     "text": [
      "Ren asks: Will I get accepted into Georgetown University?\n"
     ]
    }
   ],
   "source": [
    "if name == '':\n",
    "    print('Question: ' + question)\n",
    "else:\n",
    "    print(name + ' asks: ' + question)"
   ]
  },
  {
   "cell_type": "markdown",
   "id": "c3874952",
   "metadata": {},
   "source": [
    "Write and print answer for the user to see."
   ]
  },
  {
   "cell_type": "code",
   "execution_count": 65,
   "id": "70fd3b03",
   "metadata": {},
   "outputs": [
    {
     "name": "stdout",
     "output_type": "stream",
     "text": [
      "Magic 8-Ball's answer: My sources say no.\n"
     ]
    }
   ],
   "source": [
    "print(\"Magic 8-Ball's answer: \" + answer)"
   ]
  }
 ],
 "metadata": {
  "kernelspec": {
   "display_name": "Python 3 (ipykernel)",
   "language": "python",
   "name": "python3"
  },
  "language_info": {
   "codemirror_mode": {
    "name": "ipython",
    "version": 3
   },
   "file_extension": ".py",
   "mimetype": "text/x-python",
   "name": "python",
   "nbconvert_exporter": "python",
   "pygments_lexer": "ipython3",
   "version": "3.9.12"
  }
 },
 "nbformat": 4,
 "nbformat_minor": 5
}
