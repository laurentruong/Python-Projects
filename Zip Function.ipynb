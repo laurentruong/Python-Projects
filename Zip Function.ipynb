{
 "cells": [
  {
   "cell_type": "markdown",
   "id": "0a1cffc7",
   "metadata": {},
   "source": [
    "# Zip Function\n",
    "\n",
    "The zip() function allows us to quickly combine associated datasets without needing to rely on multi-dimensional lists.\n",
    "<br>\n",
    "The zip() function takes two (or more) lists as inputs and returns an object that contains a list of pairs."
   ]
  },
  {
   "cell_type": "code",
   "execution_count": 1,
   "id": "c284a2a6",
   "metadata": {},
   "outputs": [],
   "source": [
    "names = [\"Jenny\", \"Alexus\", \"Sam\", \"Grace\"]\n",
    "heights = [61, 70, 67, 64]"
   ]
  },
  {
   "cell_type": "markdown",
   "id": "3e51a0cb",
   "metadata": {},
   "source": [
    "If we wanted to create a nested list that paired each name with a height, we could use the built-in function zip()."
   ]
  },
  {
   "cell_type": "code",
   "execution_count": 2,
   "id": "a7b9aed6",
   "metadata": {},
   "outputs": [],
   "source": [
    "names_and_heights = zip(names, heights)"
   ]
  },
  {
   "cell_type": "markdown",
   "id": "41091702",
   "metadata": {},
   "source": [
    "This zip object contains the location of this variable in our computer’s memory."
   ]
  },
  {
   "cell_type": "code",
   "execution_count": 3,
   "id": "d9948c51",
   "metadata": {},
   "outputs": [
    {
     "name": "stdout",
     "output_type": "stream",
     "text": [
      "<zip object at 0x000002D53A839F40>\n"
     ]
    }
   ],
   "source": [
    "print(names_and_heights)"
   ]
  },
  {
   "cell_type": "markdown",
   "id": "3c71de92",
   "metadata": {},
   "source": [
    "Convert this object into a useable list by using the built-in function list()."
   ]
  },
  {
   "cell_type": "code",
   "execution_count": 4,
   "id": "1ab68fbd",
   "metadata": {},
   "outputs": [
    {
     "name": "stdout",
     "output_type": "stream",
     "text": [
      "[('Jenny', 61), ('Alexus', 70), ('Sam', 67), ('Grace', 64)]\n"
     ]
    }
   ],
   "source": [
    "converted_list = list(names_and_heights)\n",
    "print(converted_list)"
   ]
  },
  {
   "cell_type": "markdown",
   "id": "ba62c8e9",
   "metadata": {},
   "source": [
    "#### Notice:\n",
    "\n",
    "- Our data set has been converted from a zip memory object to an actual list (denoted by [ ]).\n",
    "- Our inner lists don’t use square brackets [ ] around the values. This is because they have been converted into tuples (an immutable type of list)."
   ]
  }
 ],
 "metadata": {
  "kernelspec": {
   "display_name": "Python 3 (ipykernel)",
   "language": "python",
   "name": "python3"
  },
  "language_info": {
   "codemirror_mode": {
    "name": "ipython",
    "version": 3
   },
   "file_extension": ".py",
   "mimetype": "text/x-python",
   "name": "python",
   "nbconvert_exporter": "python",
   "pygments_lexer": "ipython3",
   "version": "3.9.12"
  }
 },
 "nbformat": 4,
 "nbformat_minor": 5
}
