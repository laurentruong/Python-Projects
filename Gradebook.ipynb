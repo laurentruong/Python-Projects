{
 "cells": [
  {
   "cell_type": "markdown",
   "id": "90d66283",
   "metadata": {},
   "source": [
    "# Gradebook"
   ]
  },
  {
   "cell_type": "markdown",
   "id": "ac860484",
   "metadata": {},
   "source": [
    "Create a list called \"subjects\" and fill it with the classes you are taking subjects."
   ]
  },
  {
   "cell_type": "code",
   "execution_count": 1,
   "id": "1b4c2c34",
   "metadata": {},
   "outputs": [],
   "source": [
    "subjects = ['Database Systems II', 'Intermediate Python Programming', 'Business Intelligence', \n",
    "            'Data Visualization']"
   ]
  },
  {
   "cell_type": "markdown",
   "id": "418e3804",
   "metadata": {},
   "source": [
    "Create a list called \"grades\" and fill it with your scores."
   ]
  },
  {
   "cell_type": "code",
   "execution_count": 2,
   "id": "f42241aa",
   "metadata": {},
   "outputs": [],
   "source": [
    "grades = [98, 97, 85, 88]"
   ]
  },
  {
   "cell_type": "markdown",
   "id": "a38ff1c0",
   "metadata": {},
   "source": [
    "Create a two-dimensional list to combine \"subjects\" and \"grades\"."
   ]
  },
  {
   "cell_type": "code",
   "execution_count": 3,
   "id": "d6baff81",
   "metadata": {},
   "outputs": [
    {
     "name": "stdout",
     "output_type": "stream",
     "text": [
      "[['Database Systems II', 98], ['Intermediate Python Programming', 97], ['Business Intelligence', 85], ['Data Visualization', 88]]\n"
     ]
    }
   ],
   "source": [
    "gradebook = [\n",
    "  ['Database Systems II', 98],\n",
    "  ['Intermediate Python Programming', 97],\n",
    "  ['Business Intelligence', 85],\n",
    "  ['Data Visualization', 88]\n",
    "]\n",
    "\n",
    "print(gradebook)"
   ]
  },
  {
   "cell_type": "markdown",
   "id": "063e3533",
   "metadata": {},
   "source": [
    "Use the .append() method to add a list with the values of \"Computer Science Fundamentals\" and an associated grade value of 100 to our two-dimensional list of gradebook."
   ]
  },
  {
   "cell_type": "code",
   "execution_count": 4,
   "id": "4310d0ce",
   "metadata": {},
   "outputs": [
    {
     "name": "stdout",
     "output_type": "stream",
     "text": [
      "[['Database Systems II', 98], ['Intermediate Python Programming', 97], ['Business Intelligence', 85], ['Data Visualization', 88], ['Computer Science Fundamentals', 100]]\n"
     ]
    }
   ],
   "source": [
    "gradebook.append(['Computer Science Fundamentals', 100])\n",
    "\n",
    "print(gradebook)"
   ]
  },
  {
   "cell_type": "markdown",
   "id": "70e6517c",
   "metadata": {},
   "source": [
    "Access the index of the grade for your Business Intelligence class and modify it to be 5 points greater."
   ]
  },
  {
   "cell_type": "code",
   "execution_count": 5,
   "id": "8c40399c",
   "metadata": {},
   "outputs": [],
   "source": [
    "gradebook[2][1] = 97"
   ]
  },
  {
   "cell_type": "markdown",
   "id": "cb524fe5",
   "metadata": {},
   "source": [
    "Find the grade value in your gradebook for your Data Visualization class and use the .remove() method to delete it."
   ]
  },
  {
   "cell_type": "code",
   "execution_count": 8,
   "id": "a9fc5e29",
   "metadata": {},
   "outputs": [
    {
     "name": "stdout",
     "output_type": "stream",
     "text": [
      "[['Database Systems II', 98], ['Intermediate Python Programming', 97], ['Business Intelligence', 97], ['Data Visualization'], ['Computer Science Fundamentals', 100]]\n"
     ]
    }
   ],
   "source": [
    "gradebook[3].remove(85)\n",
    "\n",
    "print(gradebook)"
   ]
  },
  {
   "cell_type": "markdown",
   "id": "006183e7",
   "metadata": {},
   "source": [
    "Use the .append() method to then add a new \"Pass\" value to the sublist where your Business Intelligence class is located."
   ]
  },
  {
   "cell_type": "code",
   "execution_count": 10,
   "id": "e5a69786",
   "metadata": {},
   "outputs": [
    {
     "name": "stdout",
     "output_type": "stream",
     "text": [
      "[['Database Systems II', 98], ['Intermediate Python Programming', 97], ['Business Intelligence', 97], ['Data Visualization', 'Pass', 'Pass'], ['Computer Science Fundamentals', 100]]\n"
     ]
    }
   ],
   "source": [
    "gradebook[3].append('Pass')\n",
    "\n",
    "print(gradebook)"
   ]
  },
  {
   "cell_type": "markdown",
   "id": "a17ae190",
   "metadata": {},
   "source": [
    "Create a new variable \"full_gradebook\" that combines both \"last_semester_gradebook\" and \"gradebook\" using + to have one complete grade book. <br>\n",
    "Print full_gradebook to see our completed list."
   ]
  },
  {
   "cell_type": "code",
   "execution_count": 14,
   "id": "fef836bb",
   "metadata": {},
   "outputs": [],
   "source": [
    "last_semester_gradebook = ['Data Engineering Fundamentals', 95]"
   ]
  },
  {
   "cell_type": "code",
   "execution_count": 15,
   "id": "84f730a6",
   "metadata": {},
   "outputs": [],
   "source": [
    "full_gradebook = gradebook + last_semester_gradebook"
   ]
  },
  {
   "cell_type": "code",
   "execution_count": 18,
   "id": "8cf6d061",
   "metadata": {},
   "outputs": [
    {
     "name": "stdout",
     "output_type": "stream",
     "text": [
      "[['Business Intelligence', 97], ['Computer Science Fundamentals', 100], ['Data Visualization', 'Pass', 'Pass'], ['Database Systems II', 98], ['Intermediate Python Programming', 97], 'Data Engineering Fundamentals', 95]\n"
     ]
    }
   ],
   "source": [
    "print(full_gradebook)"
   ]
  }
 ],
 "metadata": {
  "kernelspec": {
   "display_name": "Python 3 (ipykernel)",
   "language": "python",
   "name": "python3"
  },
  "language_info": {
   "codemirror_mode": {
    "name": "ipython",
    "version": 3
   },
   "file_extension": ".py",
   "mimetype": "text/x-python",
   "name": "python",
   "nbconvert_exporter": "python",
   "pygments_lexer": "ipython3",
   "version": "3.9.12"
  }
 },
 "nbformat": 4,
 "nbformat_minor": 5
}
