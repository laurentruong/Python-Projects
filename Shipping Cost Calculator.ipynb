{
 "cells": [
  {
   "cell_type": "markdown",
   "id": "9bde17cb",
   "metadata": {},
   "source": [
    "# Shipping Cost Calculator"
   ]
  },
  {
   "cell_type": "markdown",
   "id": "82694783",
   "metadata": {},
   "source": [
    "Create weight variable."
   ]
  },
  {
   "cell_type": "code",
   "execution_count": 36,
   "id": "5ab8f743",
   "metadata": {},
   "outputs": [],
   "source": [
    "weight = 41.5"
   ]
  },
  {
   "cell_type": "markdown",
   "id": "5ca0fd05",
   "metadata": {},
   "source": [
    "How much does it cost to ship a package of the given weight by normal ground shipping? <br>\n",
    "Based on the \"Ground Shipping\" table."
   ]
  },
  {
   "cell_type": "code",
   "execution_count": 37,
   "id": "62150447",
   "metadata": {},
   "outputs": [
    {
     "name": "stdout",
     "output_type": "stream",
     "text": [
      "217.125\n"
     ]
    }
   ],
   "source": [
    "# Ground Shipping\n",
    "\n",
    "if weight <= 2:\n",
    "    cost_ground = weight * 1.5 + 20\n",
    "elif 2 < weight <= 6:\n",
    "    cost_ground = weight * 3 + 20\n",
    "elif 6 < weight <= 10:\n",
    "    cost_ground = weight * 4 + 20\n",
    "else:\n",
    "    cost_ground = weight * 4.75 + 20\n",
    "\n",
    "print(cost_ground)"
   ]
  },
  {
   "cell_type": "markdown",
   "id": "6dc38db7",
   "metadata": {},
   "source": [
    "Include the Ground Shipping Premium."
   ]
  },
  {
   "cell_type": "code",
   "execution_count": 38,
   "id": "8d814dd2",
   "metadata": {},
   "outputs": [
    {
     "name": "stdout",
     "output_type": "stream",
     "text": [
      "Ground Shipping Premium $ 125.0\n"
     ]
    }
   ],
   "source": [
    "# Ground Shipping Premium\n",
    "\n",
    "cost_ground_shipping_premium = 125.00\n",
    "\n",
    "print('Ground Shipping Premium $', cost_ground_shipping_premium)"
   ]
  },
  {
   "cell_type": "markdown",
   "id": "b0ea5402",
   "metadata": {},
   "source": [
    "Create an if/elif/else statement for the cost of drone shipping."
   ]
  },
  {
   "cell_type": "code",
   "execution_count": 39,
   "id": "46a5b0f4",
   "metadata": {},
   "outputs": [
    {
     "name": "stdout",
     "output_type": "stream",
     "text": [
      "591.375\n"
     ]
    }
   ],
   "source": [
    "# Drone Shipping\n",
    "\n",
    "if weight <= 2:\n",
    "    cost_drone = weight * 4.5\n",
    "elif 2 < weight <= 6:\n",
    "    cost_drone = weight * 9\n",
    "elif 6 < weight <= 10:\n",
    "    cost_drone = weight * 12\n",
    "else:\n",
    "    cost_drone = weight * 14.25\n",
    "\n",
    "print(cost_drone)"
   ]
  },
  {
   "cell_type": "markdown",
   "id": "3fc41eec",
   "metadata": {},
   "source": [
    "What is the cheapest method of shipping a 4.8 pound package and how much would it cost?"
   ]
  },
  {
   "cell_type": "code",
   "execution_count": 40,
   "id": "6e5afad6",
   "metadata": {},
   "outputs": [
    {
     "name": "stdout",
     "output_type": "stream",
     "text": [
      "Ground Shipping $ 217.125\n",
      "Ground Shipping Premium $ 125.0\n",
      "Drone Shipping $ 591.375\n"
     ]
    }
   ],
   "source": [
    "print('Ground Shipping $', cost_ground)\n",
    "print('Ground Shipping Premium $', cost_ground_shipping_premium)\n",
    "print('Drone Shipping $', cost_drone)"
   ]
  }
 ],
 "metadata": {
  "kernelspec": {
   "display_name": "Python 3 (ipykernel)",
   "language": "python",
   "name": "python3"
  },
  "language_info": {
   "codemirror_mode": {
    "name": "ipython",
    "version": 3
   },
   "file_extension": ".py",
   "mimetype": "text/x-python",
   "name": "python",
   "nbconvert_exporter": "python",
   "pygments_lexer": "ipython3",
   "version": "3.9.12"
  }
 },
 "nbformat": 4,
 "nbformat_minor": 5
}
